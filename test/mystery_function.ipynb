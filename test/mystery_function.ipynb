{
 "cells": [
  {
   "cell_type": "code",
   "execution_count": 6,
   "metadata": {},
   "outputs": [],
   "source": [
    "def mystery_function1(word):\n",
    "    vowels = ['a','e','o','u','i']\n",
    "    while word[0] not in vowels:\n",
    "        word = word[1:] + word[0]\n",
    "    return word + 'ay'"
   ]
  },
  {
   "cell_type": "code",
   "execution_count": 3,
   "metadata": {},
   "outputs": [],
   "source": [
    "def mystery_function2(phrase):\n",
    "    words = phrase.split()\n",
    "    new_phrase = [mystery_function1(word) for word in words]\n",
    "    return ' '.join(new_phrase)"
   ]
  },
  {
   "cell_type": "code",
   "execution_count": 7,
   "metadata": {},
   "outputs": [
    {
     "name": "stdout",
     "output_type": "stream",
     "text": [
      "awberrystray eesecakechay\n"
     ]
    }
   ],
   "source": [
    "print(mystery_function2('strawberry cheesecake'))"
   ]
  },
  {
   "cell_type": "code",
   "execution_count": 9,
   "metadata": {},
   "outputs": [],
   "source": [
    "import numpy as np"
   ]
  },
  {
   "cell_type": "code",
   "execution_count": 13,
   "metadata": {},
   "outputs": [
    {
     "name": "stdout",
     "output_type": "stream",
     "text": [
      "[[0.0850966  0.2021148  0.27601045]\n",
      " [0.68470728 0.18532927 0.62101111]\n",
      " [0.26430876 0.13253604 0.24677755]\n",
      " [0.22298924 0.89651341 0.69460171]\n",
      " [0.31636176 0.13995356 0.20153753]\n",
      " [0.5222628  0.89604659 0.66527039]\n",
      " [0.10262504 0.96578524 0.01135444]]\n"
     ]
    }
   ],
   "source": [
    "# create a 7x3 matrix of random numbers\n",
    "matrix1 = np.random.rand(7,3)\n",
    "print(matrix1)"
   ]
  },
  {
   "cell_type": "code",
   "execution_count": 12,
   "metadata": {},
   "outputs": [
    {
     "name": "stdout",
     "output_type": "stream",
     "text": [
      "[[0.643815   0.57737462 0.92394646 0.76872071]\n",
      " [0.89384724 0.36477565 0.97049943 0.61792804]\n",
      " [0.32166379 0.86340967 0.05534614 0.91369253]]\n"
     ]
    }
   ],
   "source": [
    "# create a 3,4 matrix of random numbers\n",
    "matrix2 = np.random.rand(3,4)\n",
    "print(matrix2)"
   ]
  },
  {
   "cell_type": "code",
   "execution_count": 14,
   "metadata": {},
   "outputs": [],
   "source": [
    "# multiply matrix1 andd matrix2\n",
    "matrix3 = np.dot(matrix1, matrix2)"
   ]
  },
  {
   "cell_type": "code",
   "execution_count": 15,
   "metadata": {},
   "outputs": [
    {
     "name": "stdout",
     "output_type": "stream",
     "text": [
      "(7, 4)\n"
     ]
    }
   ],
   "source": [
    "print(matrix3.shape)"
   ]
  },
  {
   "cell_type": "code",
   "execution_count": 16,
   "metadata": {},
   "outputs": [
    {
     "name": "stdout",
     "output_type": "stream",
     "text": [
      "[[0.32422879 0.36116927 0.29005311 0.44249661]\n",
      " [0.80623766 0.9991232  0.84686538 1.20828203]\n",
      " [0.36801232 0.41402121 0.38649148 0.51055616]\n",
      " [1.16833807 1.05550042 1.11453938 1.36004961]\n",
      " [0.39360287 0.40772035 0.4392805  0.5138184 ]\n",
      " [1.3511628  1.20279815 1.38897571 1.56301913]\n",
      " [0.93298833 0.42135157 1.03274249 0.68605025]]\n"
     ]
    }
   ],
   "source": [
    "print(matrix3)"
   ]
  },
  {
   "cell_type": "code",
   "execution_count": null,
   "metadata": {},
   "outputs": [],
   "source": []
  }
 ],
 "metadata": {
  "kernelspec": {
   "display_name": "Python 3",
   "language": "python",
   "name": "python3"
  },
  "language_info": {
   "codemirror_mode": {
    "name": "ipython",
    "version": 3
   },
   "file_extension": ".py",
   "mimetype": "text/x-python",
   "name": "python",
   "nbconvert_exporter": "python",
   "pygments_lexer": "ipython3",
   "version": "3.8.5"
  },
  "orig_nbformat": 4
 },
 "nbformat": 4,
 "nbformat_minor": 2
}
