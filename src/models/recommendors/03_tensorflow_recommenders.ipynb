{
 "cells": [
  {
   "cell_type": "code",
   "execution_count": 4,
   "metadata": {},
   "outputs": [
    {
     "name": "stdout",
     "output_type": "stream",
     "text": [
      "Collecting tensorflow_datasets==2.1.0"
     ]
    },
    {
     "name": "stderr",
     "output_type": "stream",
     "text": [
      "WARNING: Ignoring invalid distribution -rotobuf (c:\\users\\aky\\appdata\\local\\programs\\python\\python38\\lib\\site-packages)\n",
      "WARNING: Ignoring invalid distribution -yproj (c:\\users\\aky\\appdata\\local\\programs\\python\\python38\\lib\\site-packages)\n",
      "WARNING: Ignoring invalid distribution -rotobuf (c:\\users\\aky\\appdata\\local\\programs\\python\\python38\\lib\\site-packages)\n",
      "WARNING: Ignoring invalid distribution -yproj (c:\\users\\aky\\appdata\\local\\programs\\python\\python38\\lib\\site-packages)\n",
      "\n",
      "[notice] A new release of pip is available: 23.1.1 -> 23.2.1\n",
      "[notice] To update, run: python.exe -m pip install --upgrade pip\n"
     ]
    },
    {
     "name": "stdout",
     "output_type": "stream",
     "text": [
      "\n",
      "  Using cached tensorflow_datasets-2.1.0-py3-none-any.whl (3.1 MB)\n",
      "Requirement already satisfied: absl-py in c:\\users\\aky\\appdata\\local\\programs\\python\\python38\\lib\\site-packages (from tensorflow_datasets==2.1.0) (1.3.0)\n",
      "Requirement already satisfied: attrs>=18.1.0 in c:\\users\\aky\\appdata\\local\\programs\\python\\python38\\lib\\site-packages (from tensorflow_datasets==2.1.0) (22.1.0)\n",
      "Collecting dill (from tensorflow_datasets==2.1.0)\n",
      "  Using cached dill-0.3.7-py3-none-any.whl (115 kB)\n",
      "Requirement already satisfied: future in c:\\users\\aky\\appdata\\local\\programs\\python\\python38\\lib\\site-packages (from tensorflow_datasets==2.1.0) (0.18.2)\n",
      "Requirement already satisfied: numpy in c:\\users\\aky\\appdata\\local\\programs\\python\\python38\\lib\\site-packages (from tensorflow_datasets==2.1.0) (1.22.3)\n",
      "Collecting promise (from tensorflow_datasets==2.1.0)\n",
      "  Using cached promise-2.3-py3-none-any.whl\n",
      "Requirement already satisfied: protobuf>=3.6.1 in c:\\users\\aky\\appdata\\local\\programs\\python\\python38\\lib\\site-packages (from tensorflow_datasets==2.1.0) (4.23.4)\n",
      "Requirement already satisfied: requests>=2.19.0 in c:\\users\\aky\\appdata\\local\\programs\\python\\python38\\lib\\site-packages (from tensorflow_datasets==2.1.0) (2.28.1)\n",
      "Requirement already satisfied: six in c:\\users\\aky\\appdata\\local\\programs\\python\\python38\\lib\\site-packages (from tensorflow_datasets==2.1.0) (1.16.0)\n",
      "Collecting tensorflow-metadata (from tensorflow_datasets==2.1.0)\n",
      "  Using cached tensorflow_metadata-1.13.1-py3-none-any.whl (28 kB)\n",
      "Requirement already satisfied: termcolor in c:\\users\\aky\\appdata\\local\\programs\\python\\python38\\lib\\site-packages (from tensorflow_datasets==2.1.0) (1.1.0)\n",
      "Requirement already satisfied: tqdm in c:\\users\\aky\\appdata\\local\\programs\\python\\python38\\lib\\site-packages (from tensorflow_datasets==2.1.0) (4.64.1)\n",
      "Requirement already satisfied: wrapt in c:\\users\\aky\\appdata\\local\\programs\\python\\python38\\lib\\site-packages (from tensorflow_datasets==2.1.0) (1.14.1)\n",
      "Requirement already satisfied: charset-normalizer<3,>=2 in c:\\users\\aky\\appdata\\local\\programs\\python\\python38\\lib\\site-packages (from requests>=2.19.0->tensorflow_datasets==2.1.0) (2.1.1)\n",
      "Requirement already satisfied: idna<4,>=2.5 in c:\\users\\aky\\appdata\\local\\programs\\python\\python38\\lib\\site-packages (from requests>=2.19.0->tensorflow_datasets==2.1.0) (3.4)\n",
      "Requirement already satisfied: urllib3<1.27,>=1.21.1 in c:\\users\\aky\\appdata\\local\\programs\\python\\python38\\lib\\site-packages (from requests>=2.19.0->tensorflow_datasets==2.1.0) (1.26.12)\n",
      "Requirement already satisfied: certifi>=2017.4.17 in c:\\users\\aky\\appdata\\local\\programs\\python\\python38\\lib\\site-packages (from requests>=2.19.0->tensorflow_datasets==2.1.0) (2022.9.24)\n",
      "Collecting googleapis-common-protos<2,>=1.52.0 (from tensorflow-metadata->tensorflow_datasets==2.1.0)\n",
      "  Using cached googleapis_common_protos-1.60.0-py2.py3-none-any.whl (227 kB)\n",
      "Requirement already satisfied: colorama in c:\\users\\aky\\appdata\\local\\programs\\python\\python38\\lib\\site-packages (from tqdm->tensorflow_datasets==2.1.0) (0.4.6)\n",
      "Installing collected packages: promise, googleapis-common-protos, dill, tensorflow-metadata, tensorflow_datasets\n",
      "Successfully installed dill-0.3.7 googleapis-common-protos-1.60.0 promise-2.3 tensorflow-metadata-1.13.1 tensorflow_datasets-2.1.0\n"
     ]
    }
   ],
   "source": [
    "!pip install --user tensorflow_datasets==2.1.0"
   ]
  },
  {
   "cell_type": "code",
   "execution_count": 13,
   "metadata": {},
   "outputs": [],
   "source": [
    "# import tensorflow dataset\n",
    "import tensorflow as tf\n",
    "#import tensorflow_datasets.public_api as tfds\n",
    "#import tensorflow_recommenders as tfrs"
   ]
  },
  {
   "cell_type": "code",
   "execution_count": 14,
   "metadata": {},
   "outputs": [],
   "source": [
    "import numpy as np\n",
    "import pandas as pd"
   ]
  },
  {
   "cell_type": "code",
   "execution_count": 34,
   "metadata": {},
   "outputs": [],
   "source": [
    "# Rating data.\n",
    "# ratings = tf.dataset.load('movielens/100k-ratings', split=\"train\")\n",
    "ratings = pd.read_csv('../../data/ml-latest-small/ratings.csv')\n",
    "movies = pd.read_csv('../../data/ml-latest-small/movies.csv')\n",
    "tags = pd.read_csv('../../data/ml-latest-small/tags.csv')\n",
    "links = pd.read_csv('../../data/ml-latest-small/links.csv')"
   ]
  },
  {
   "cell_type": "code",
   "execution_count": null,
   "metadata": {},
   "outputs": [],
   "source": [
    "# import pprint\n"
   ]
  },
  {
   "cell_type": "code",
   "execution_count": 23,
   "metadata": {},
   "outputs": [
    {
     "name": "stdout",
     "output_type": "stream",
     "text": [
      "Ratings:  Index(['userId', 'movieId', 'rating', 'timestamp'], dtype='object') size:  403344\n",
      "Movies:  Index(['movieId', 'title', 'genres'], dtype='object') size:  29226\n",
      "Tags:  Index(['userId', 'movieId', 'tag', 'timestamp'], dtype='object') size:  14732\n",
      "Links:  Index(['movieId', 'imdbId', 'tmdbId'], dtype='object') size:  29226\n"
     ]
    }
   ],
   "source": [
    "# print columns\n",
    "print(\"Ratings: \", ratings.columns, \"size: \", ratings.size)\n",
    "print(\"Movies: \", movies.columns, \"size: \", movies.size)\n",
    "print(\"Tags: \", tags.columns, \"size: \", tags.size)\n",
    "print(\"Links: \", links.columns, \"size: \", links.size)"
   ]
  },
  {
   "cell_type": "markdown",
   "metadata": {},
   "source": [
    "Implicit Feedback and Explisive Feedback"
   ]
  },
  {
   "cell_type": "code",
   "execution_count": 38,
   "metadata": {},
   "outputs": [],
   "source": [
    "# pass the pd to tf\n",
    "ratings = tf.data.Dataset.from_tensor_slices(dict(ratings))"
   ]
  },
  {
   "cell_type": "code",
   "execution_count": 27,
   "metadata": {},
   "outputs": [
    {
     "ename": "AttributeError",
     "evalue": "'TensorSliceDataset' object has no attribute 'suffle'",
     "output_type": "error",
     "traceback": [
      "\u001b[1;31m---------------------------------------------------------------------------\u001b[0m",
      "\u001b[1;31mAttributeError\u001b[0m                            Traceback (most recent call last)",
      "\u001b[1;32mc:\\Users\\aky\\Documents\\Programs\\ML-Path\\src\\models\\recommendors\\03_tensorflow_recommenders.ipynb Cell 9\u001b[0m in \u001b[0;36m3\n\u001b[0;32m      <a href='vscode-notebook-cell:/c%3A/Users/aky/Documents/Programs/ML-Path/src/models/recommendors/03_tensorflow_recommenders.ipynb#W5sZmlsZQ%3D%3D?line=0'>1</a>\u001b[0m \u001b[39m# shuffle data\u001b[39;00m\n\u001b[0;32m      <a href='vscode-notebook-cell:/c%3A/Users/aky/Documents/Programs/ML-Path/src/models/recommendors/03_tensorflow_recommenders.ipynb#W5sZmlsZQ%3D%3D?line=1'>2</a>\u001b[0m tf\u001b[39m.\u001b[39mrandom\u001b[39m.\u001b[39mset_seed(\u001b[39m42\u001b[39m)\n\u001b[1;32m----> <a href='vscode-notebook-cell:/c%3A/Users/aky/Documents/Programs/ML-Path/src/models/recommendors/03_tensorflow_recommenders.ipynb#W5sZmlsZQ%3D%3D?line=2'>3</a>\u001b[0m suffled \u001b[39m=\u001b[39m ratings\u001b[39m.\u001b[39;49msuffle(\u001b[39m100_00\u001b[39m, seed\u001b[39m=\u001b[39m\u001b[39m32\u001b[39m, reshuffle_each_iteration\u001b[39m=\u001b[39m\u001b[39mFalse\u001b[39;00m)\n",
      "\u001b[1;31mAttributeError\u001b[0m: 'TensorSliceDataset' object has no attribute 'suffle'"
     ]
    }
   ],
   "source": [
    "# shuffle data\n",
    "tf.random.set_seed(42)\n",
    "suffled = ratings.suffle(100_00, seed=32, reshuffle_each_iteration=False)"
   ]
  },
  {
   "cell_type": "code",
   "execution_count": 28,
   "metadata": {},
   "outputs": [
    {
     "ename": "NameError",
     "evalue": "name 'suffled' is not defined",
     "output_type": "error",
     "traceback": [
      "\u001b[1;31m---------------------------------------------------------------------------\u001b[0m",
      "\u001b[1;31mNameError\u001b[0m                                 Traceback (most recent call last)",
      "\u001b[1;32mc:\\Users\\aky\\Documents\\Programs\\ML-Path\\src\\models\\recommendors\\03_tensorflow_recommenders.ipynb Cell 10\u001b[0m in \u001b[0;36m1\n\u001b[1;32m----> <a href='vscode-notebook-cell:/c%3A/Users/aky/Documents/Programs/ML-Path/src/models/recommendors/03_tensorflow_recommenders.ipynb#X11sZmlsZQ%3D%3D?line=0'>1</a>\u001b[0m train \u001b[39m=\u001b[39m suffled\u001b[39m.\u001b[39mtake(\u001b[39m80_000\u001b[39m)\n\u001b[0;32m      <a href='vscode-notebook-cell:/c%3A/Users/aky/Documents/Programs/ML-Path/src/models/recommendors/03_tensorflow_recommenders.ipynb#X11sZmlsZQ%3D%3D?line=1'>2</a>\u001b[0m test \u001b[39m=\u001b[39m suffled\u001b[39m.\u001b[39mskip(\u001b[39m80_000\u001b[39m)\u001b[39m.\u001b[39mtake(\u001b[39m20_000\u001b[39m)\n",
      "\u001b[1;31mNameError\u001b[0m: name 'suffled' is not defined"
     ]
    }
   ],
   "source": [
    "train = suffled.take(80_000)\n",
    "test = suffled.skip(80_000).take(20_000)"
   ]
  },
  {
   "cell_type": "code",
   "execution_count": null,
   "metadata": {},
   "outputs": [],
   "source": [
    "movie_titles = movies.batch(1_000)\n",
    "user_ids = ratings.batch(1_000_000).map(lambda x: x[\"user_id\"])"
   ]
  },
  {
   "cell_type": "code",
   "execution_count": null,
   "metadata": {},
   "outputs": [],
   "source": [
    "uniqyu_movie_titles = np.unique(np.concatenate(list(movie_titles)))\n",
    "uniqyu_user_ids = np.unique(np.concatenate(list(user_ids)))"
   ]
  }
 ],
 "metadata": {
  "kernelspec": {
   "display_name": "Python 3",
   "language": "python",
   "name": "python3"
  },
  "language_info": {
   "codemirror_mode": {
    "name": "ipython",
    "version": 3
   },
   "file_extension": ".py",
   "mimetype": "text/x-python",
   "name": "python",
   "nbconvert_exporter": "python",
   "pygments_lexer": "ipython3",
   "version": "3.8.5"
  },
  "orig_nbformat": 4
 },
 "nbformat": 4,
 "nbformat_minor": 2
}
