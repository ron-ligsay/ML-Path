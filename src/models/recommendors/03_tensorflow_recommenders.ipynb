{
 "cells": [
  {
   "cell_type": "code",
   "execution_count": null,
   "metadata": {},
   "outputs": [],
   "source": [
    "!pip install --user tensorflow_datasets==2.1.0"
   ]
  },
  {
   "cell_type": "code",
   "execution_count": null,
   "metadata": {},
   "outputs": [],
   "source": [
    "# import tensorflow dataset\n",
    "import tensorflow as tf\n",
    "#import tensorflow_datasets.public_api as tfds\n",
    "#import tensorflow_recommenders as tfrs"
   ]
  },
  {
   "cell_type": "code",
   "execution_count": null,
   "metadata": {},
   "outputs": [],
   "source": [
    "import numpy as np\n",
    "import pandas as pd"
   ]
  },
  {
   "cell_type": "code",
   "execution_count": null,
   "metadata": {},
   "outputs": [],
   "source": [
    "# Rating data.\n",
    "# ratings = tf.dataset.load('movielens/100k-ratings', split=\"train\")\n",
    "ratings = pd.read_csv('../../data/ml-latest-small/ratings.csv')\n",
    "movies = pd.read_csv('../../data/ml-latest-small/movies.csv')\n",
    "tags = pd.read_csv('../../data/ml-latest-small/tags.csv')\n",
    "links = pd.read_csv('../../data/ml-latest-small/links.csv')"
   ]
  },
  {
   "cell_type": "code",
   "execution_count": null,
   "metadata": {},
   "outputs": [],
   "source": [
    "# import pprint\n"
   ]
  },
  {
   "cell_type": "code",
   "execution_count": null,
   "metadata": {},
   "outputs": [],
   "source": [
    "# print columns\n",
    "print(\"Ratings: \", ratings.columns, \"size: \", ratings.size)\n",
    "print(\"Movies: \", movies.columns, \"size: \", movies.size)\n",
    "print(\"Tags: \", tags.columns, \"size: \", tags.size)\n",
    "print(\"Links: \", links.columns, \"size: \", links.size)"
   ]
  },
  {
   "cell_type": "markdown",
   "metadata": {},
   "source": [
    "Implicit Feedback and Explisive Feedback"
   ]
  },
  {
   "cell_type": "code",
   "execution_count": null,
   "metadata": {},
   "outputs": [],
   "source": [
    "# pass the pd to tf\n",
    "ratings = tf.data.Dataset.from_tensor_slices(dict(ratings))"
   ]
  },
  {
   "cell_type": "code",
   "execution_count": null,
   "metadata": {},
   "outputs": [],
   "source": [
    "# shuffle data\n",
    "tf.random.set_seed(42)\n",
    "suffled = ratings.suffle(100_00, seed=32, reshuffle_each_iteration=False)"
   ]
  },
  {
   "cell_type": "code",
   "execution_count": null,
   "metadata": {},
   "outputs": [],
   "source": [
    "train = suffled.take(80_000)\n",
    "test = suffled.skip(80_000).take(20_000)"
   ]
  },
  {
   "cell_type": "code",
   "execution_count": null,
   "metadata": {},
   "outputs": [],
   "source": [
    "movie_titles = movies.batch(1_000)\n",
    "user_ids = ratings.batch(1_000_000).map(lambda x: x[\"user_id\"])"
   ]
  },
  {
   "cell_type": "code",
   "execution_count": null,
   "metadata": {},
   "outputs": [],
   "source": [
    "uniqyu_movie_titles = np.unique(np.concatenate(list(movie_titles)))\n",
    "uniqyu_user_ids = np.unique(np.concatenate(list(user_ids)))"
   ]
  }
 ],
 "metadata": {
  "kernelspec": {
   "display_name": "Python 3",
   "language": "python",
   "name": "python3"
  },
  "language_info": {
   "codemirror_mode": {
    "name": "ipython",
    "version": 3
   },
   "file_extension": ".py",
   "mimetype": "text/x-python",
   "name": "python",
   "nbconvert_exporter": "python",
   "pygments_lexer": "ipython3",
   "version": "3.8.5"
  },
  "orig_nbformat": 4
 },
 "nbformat": 4,
 "nbformat_minor": 2
}
