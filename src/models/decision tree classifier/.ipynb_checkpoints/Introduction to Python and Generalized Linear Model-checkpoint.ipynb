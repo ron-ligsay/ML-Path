{
 "cells": [
  {
   "cell_type": "code",
   "execution_count": 2,
   "id": "9fa7ee15",
   "metadata": {},
   "outputs": [
    {
     "name": "stdout",
     "output_type": "stream",
     "text": [
      "Hello\n"
     ]
    }
   ],
   "source": [
    "#using def keybowrd.\n",
    "def greet_function():\n",
    "    print(\"Hello\")\n",
    "    \n",
    "greet_function()"
   ]
  },
  {
   "cell_type": "code",
   "execution_count": 4,
   "id": "3c9505b6",
   "metadata": {},
   "outputs": [
    {
     "name": "stdout",
     "output_type": "stream",
     "text": [
      "Hello, Rica!\n"
     ]
    },
    {
     "ename": "TypeError",
     "evalue": "greet_function() missing 1 required positional argument: 'name'",
     "output_type": "error",
     "traceback": [
      "\u001b[1;31m---------------------------------------------------------------------------\u001b[0m",
      "\u001b[1;31mTypeError\u001b[0m                                 Traceback (most recent call last)",
      "Input \u001b[1;32mIn [4]\u001b[0m, in \u001b[0;36m<cell line: 5>\u001b[1;34m()\u001b[0m\n\u001b[0;32m      2\u001b[0m     \u001b[38;5;28mprint\u001b[39m(\u001b[38;5;124m\"\u001b[39m\u001b[38;5;124mHello, \u001b[39m\u001b[38;5;124m\"\u001b[39m \u001b[38;5;241m+\u001b[39m name \u001b[38;5;241m+\u001b[39m \u001b[38;5;124m\"\u001b[39m\u001b[38;5;124m!\u001b[39m\u001b[38;5;124m\"\u001b[39m)\n\u001b[0;32m      4\u001b[0m greet_function(\u001b[38;5;124m\"\u001b[39m\u001b[38;5;124mRica\u001b[39m\u001b[38;5;124m\"\u001b[39m)\n\u001b[1;32m----> 5\u001b[0m \u001b[43mgreet_function\u001b[49m\u001b[43m(\u001b[49m\u001b[43m)\u001b[49m\n",
      "\u001b[1;31mTypeError\u001b[0m: greet_function() missing 1 required positional argument: 'name'"
     ]
    }
   ],
   "source": [
    "def greet_function(name):\n",
    "    print(\"Hello, \" + name + \"!\")\n",
    "\n",
    "greet_function(\"Rica\")"
   ]
  },
  {
   "cell_type": "code",
   "execution_count": 7,
   "id": "bc613e55",
   "metadata": {},
   "outputs": [
    {
     "name": "stdout",
     "output_type": "stream",
     "text": [
      "3.141592653589793\n",
      "2.718281828459045\n"
     ]
    }
   ],
   "source": [
    "#numpy as np\n",
    "import numpy as np\n",
    "\n",
    "print(np.pi)\n",
    "print(np.e)"
   ]
  },
  {
   "cell_type": "code",
   "execution_count": 13,
   "id": "33a995d4",
   "metadata": {},
   "outputs": [
    {
     "data": {
      "image/png": "[encoded data removed]",
      "text/plain": [
       "<Figure size 432x288 with 1 Axes>"
      ]
     },
     "metadata": {
      "needs_background": "light"
     },
     "output_type": "display_data"
    }
   ],
   "source": [
    "#matplotlib.pylot as plt\n",
    "\n",
    "from matplotlib import pyplot as plt\n",
    "xname = \"x-axis\"\n",
    "yname = 'y-axis'\n",
    "x = [1,2,3]\n",
    "y = [4,5,6]\n",
    "\n",
    "plt.xlabel(xname)\n",
    "plt.ylabel(yname)\n",
    "plt.plot(x,y)\n",
    "plt.show()"
   ]
  },
  {
   "cell_type": "markdown",
   "id": "21e143a7",
   "metadata": {},
   "source": [
    "# DATA TYPES"
   ]
  },
  {
   "cell_type": "code",
   "execution_count": 15,
   "id": "a5f43a53",
   "metadata": {},
   "outputs": [
    {
     "name": "stdout",
     "output_type": "stream",
     "text": [
      "True\n"
     ]
    }
   ],
   "source": [
    "#string\n",
    "string = \"string\"\n",
    "#numbers\n",
    "integer = 25\n",
    "float = 25.0\n",
    "#boolean\n",
    "boolean = 7 > 2\n",
    "\n",
    "print(7>2)"
   ]
  },
  {
   "cell_type": "markdown",
   "id": "9dc65855",
   "metadata": {},
   "source": [
    "## Instructions\n",
    "1. Convert 453.452 into integer number\n",
    "2. convert the string \"it's holiday!\" into tuple\n",
    "3. convert the numerical value 7439 into string"
   ]
  },
  {
   "cell_type": "code",
   "execution_count": 20,
   "id": "073e811f",
   "metadata": {},
   "outputs": [
    {
     "name": "stdout",
     "output_type": "stream",
     "text": [
      "453\n",
      "7439\n"
     ]
    }
   ],
   "source": [
    "#vcoding \n",
    "#1\n",
    "number_int = int(453.453)\n",
    "print(number_int)\n",
    "#2\n",
    "string_tuple = tuple(\"It's Holliday\")\n",
    "string_tuple\n",
    "#3\n",
    "print(str(7439))"
   ]
  },
  {
   "cell_type": "code",
   "execution_count": 21,
   "id": "f5e5f9cc",
   "metadata": {
    "scrolled": true
   },
   "outputs": [
    {
     "name": "stdout",
     "output_type": "stream",
     "text": [
      "Variable         Type        Data/Info\n",
      "--------------------------------------\n",
      "boolean          bool        True\n",
      "float            float       25.0\n",
      "greet_function   function    <function greet_function at 0x0000026F750A2AF0>\n",
      "integer          int         25\n",
      "np               module      <module 'numpy' from 'C:\\<...>ges\\\\numpy\\\\__init__.py'>\n",
      "number_int       int         453\n",
      "plt              module      <module 'matplotlib.pyplo<...>\\\\matplotlib\\\\pyplot.py'>\n",
      "string           str         string\n",
      "string_tuple     tuple       n=13\n",
      "x                list        n=3\n",
      "xname            str         x-axis\n",
      "y                list        n=3\n",
      "yname            str         y-axis\n"
     ]
    }
   ],
   "source": [
    "#what are your variables?\n",
    "\n",
    "%whos"
   ]
  },
  {
   "cell_type": "code",
   "execution_count": 22,
   "id": "ad5b0239",
   "metadata": {},
   "outputs": [
    {
     "name": "stdout",
     "output_type": "stream",
     "text": [
      "x leass than y\n"
     ]
    }
   ],
   "source": [
    "#Coding\n",
    "\n",
    "x = 332\n",
    "y = 603\n",
    "\n",
    "if x >= y:\n",
    "    print(\"x is greater than or equal to y\")\n",
    "elif x == y:\n",
    "    print(\"x is equal to y\")\n",
    "else:\n",
    "    print(\"x leass than y\")"
   ]
  },
  {
   "cell_type": "code",
   "execution_count": null,
   "id": "f940c428",
   "metadata": {},
   "outputs": [],
   "source": []
  }
 ],
 "metadata": {
  "kernelspec": {
   "display_name": "Python 3 (ipykernel)",
   "language": "python",
   "name": "python3"
  },
  "language_info": {
   "codemirror_mode": {
    "name": "ipython",
    "version": 3
   },
   "file_extension": ".py",
   "mimetype": "text/x-python",
   "name": "python",
   "nbconvert_exporter": "python",
   "pygments_lexer": "ipython3",
   "version": "3.9.12"
  }
 },
 "nbformat": 4,
 "nbformat_minor": 5
}
