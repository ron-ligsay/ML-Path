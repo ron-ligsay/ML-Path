{
  "cells": [
    {
      "cell_type": "markdown",
      "metadata": {
        "id": "f2h3bNH0nwSe"
      },
      "source": [
        "\n",
        "### Main Sections:\n",
        "\n",
        "1. TensorFlow Basics:\n",
        "    * Introduction to TensorFlow\n",
        "    * Installing and Importing TensorFlow\n",
        "    * Constants and Variables\n",
        "    * Simple Operations and Tensors\n",
        "    * Placeholders and Data Feeding\n",
        "2. Neural Network Fundamentals:\n",
        "    * Building a Linear Regression Model\n",
        "    * Loss Functions and Optimization\n",
        "    * Activation Functions\n",
        "    * Training Loop and Metrics\n",
        "3. Hyperparameter Tuning:\n",
        "    * Importance of Hyperparameters\n",
        "    * Common Hyperparameters (batch size, epoch, learning rate)\n",
        "    * GridSearchCV and RandomSearch for Exploration\n",
        "    * Visualizing Tuning Results\n",
        "4. Deep Learning Layers:\n",
        "    * Dense Layers: Parameters and Activation Functions\n",
        "    * Dropout Layers for Regularization\n",
        "    * Additional Layer Types (convolutional, recurrent, pooling)\n",
        "    * Compile Parameters and Training Configuration\n",
        "5. Additional Notes:\n",
        "    * Code snippets and resources for further learning\n",
        "    * Specific questions or challenges you encountered\n",
        "\n",
        "### Sub-Sections (optional):\n",
        "    * Within each main section, you can create sub-sections for specific topics or examples.\n",
        "    * Consider adding headers, bullet points, and diagrams for better organization and clarity.\n",
        "    * Use different colors or fonts to highlight important information.\n",
        "\n"
      ]
    },
    {
      "cell_type": "markdown",
      "metadata": {
        "id": "-UpGyJvlnwSn"
      },
      "source": [
        "### Imports"
      ]
    },
    {
      "cell_type": "code",
      "execution_count": 1,
      "metadata": {
        "id": "jsUbyStznwSo",
        "outputId": "4b02ea68-201a-4733-fb65-1907ee005eb4",
        "colab": {
          "base_uri": "https://localhost:8080/"
        }
      },
      "outputs": [
        {
          "output_type": "stream",
          "name": "stdout",
          "text": [
            "2.15.0\n"
          ]
        }
      ],
      "source": [
        "import numpy as np\n",
        "import pandas as pd\n",
        "import matplotlib.pyplot as plt\n",
        "\n",
        "import tensorflow as tf\n",
        "from tensorflow import keras\n",
        "from tensorflow.keras import layers\n",
        "\n",
        "# special imports for CV and NLP\n",
        "from tensorflow.keras.preprocessing.image import ImageDataGenerator\n",
        "from tensorflow.keras.preprocessing.text import Tokenizer\n",
        "from tensorflow.keras.preprocessing.sequence import pad_sequences\n",
        "\n",
        "print(\"TensorFlow version: \",tf.__version__)\n",
        "# 2.7.0"
      ]
    },
    {
      "cell_type": "code",
      "source": [
        "import tensorflow as tf\n",
        "print(\"TensorFlow version:\", tf.__version__)\n",
        "\n",
        "from tensorflow.keras.layers import Dense, Flatten, Conv2D\n",
        "from tensorflow.keras import Model"
      ],
      "metadata": {
        "id": "5LFYuQwhtbHH",
        "outputId": "9b8aa495-4bb8-4c99-bcf6-dc34c8108630",
        "colab": {
          "base_uri": "https://localhost:8080/"
        }
      },
      "execution_count": 21,
      "outputs": [
        {
          "output_type": "stream",
          "name": "stdout",
          "text": [
            "TensorFlow version: 2.15.0\n"
          ]
        }
      ]
    },
    {
      "cell_type": "markdown",
      "source": [
        "### Load a dataset\n",
        "Load and prepare the MNIST dataset. The pixel values of the images range from 0 through 255. Scale these values to a range of 0 to 1 by dividing the values by 255.0. This also converts the sample data from integers to floating-point numbers:"
      ],
      "metadata": {
        "id": "5F9bUM-FoNlj"
      }
    },
    {
      "cell_type": "code",
      "source": [
        "mnist = tf.keras.datasets.mnist\n",
        "\n",
        "(x_train, y_train), (x_test, y_test) = mnist.load_data()\n",
        "x_train, x_test = x_train / 255.0, x_test / 255.0"
      ],
      "metadata": {
        "id": "wBMjBq0woMyn",
        "outputId": "6fd05730-703a-46aa-9344-ef141a40a3c9",
        "colab": {
          "base_uri": "https://localhost:8080/"
        }
      },
      "execution_count": 9,
      "outputs": [
        {
          "output_type": "stream",
          "name": "stdout",
          "text": [
            "Downloading data from https://storage.googleapis.com/tensorflow/tf-keras-datasets/mnist.npz\n",
            "11490434/11490434 [==============================] - 1s 0us/step\n"
          ]
        }
      ]
    },
    {
      "cell_type": "code",
      "source": [
        "# Add a channels dimension\n",
        "x_train = x_train[..., tf.newaxis].astype(\"float32\")\n",
        "x_test = x_test[..., tf.newaxis].astype(\"float32\")"
      ],
      "metadata": {
        "id": "Spu_WBdetfhm"
      },
      "execution_count": 22,
      "outputs": []
    },
    {
      "cell_type": "code",
      "source": [
        "train_ds = tf.data.Dataset.from_tensor_slices(\n",
        "    (x_train, y_train)).shuffle(10000).batch(32)\n",
        "\n",
        "test_ds = tf.data.Dataset.from_tensor_slices((x_test, y_test)).batch(32)"
      ],
      "metadata": {
        "id": "8zaq6Fg_tlEs"
      },
      "execution_count": 23,
      "outputs": []
    },
    {
      "cell_type": "code",
      "source": [
        "# Spliting the data into training and test sets\n",
        "train_dataset = dataset.sample(frac=0.8, random_state=0)\n",
        "test_dataset = dataset.drop(train_dataset.index)"
      ],
      "metadata": {
        "id": "ay_oXwTAvd_2",
        "outputId": "c3b87237-3847-4238-ee0f-25b01211dafd",
        "colab": {
          "base_uri": "https://localhost:8080/",
          "height": 210
        }
      },
      "execution_count": 30,
      "outputs": [
        {
          "output_type": "error",
          "ename": "AttributeError",
          "evalue": "ignored",
          "traceback": [
            "\u001b[0;31m---------------------------------------------------------------------------\u001b[0m",
            "\u001b[0;31mAttributeError\u001b[0m                            Traceback (most recent call last)",
            "\u001b[0;32m<ipython-input-30-7942d6029360>\u001b[0m in \u001b[0;36m<cell line: 2>\u001b[0;34m()\u001b[0m\n\u001b[1;32m      1\u001b[0m \u001b[0;31m# Spliting the data into training and test sets\u001b[0m\u001b[0;34m\u001b[0m\u001b[0;34m\u001b[0m\u001b[0m\n\u001b[0;32m----> 2\u001b[0;31m \u001b[0mtrain_dataset\u001b[0m \u001b[0;34m=\u001b[0m \u001b[0mdataset\u001b[0m\u001b[0;34m.\u001b[0m\u001b[0msample\u001b[0m\u001b[0;34m(\u001b[0m\u001b[0mfrac\u001b[0m\u001b[0;34m=\u001b[0m\u001b[0;36m0.8\u001b[0m\u001b[0;34m,\u001b[0m \u001b[0mrandom_state\u001b[0m\u001b[0;34m=\u001b[0m\u001b[0;36m0\u001b[0m\u001b[0;34m)\u001b[0m\u001b[0;34m\u001b[0m\u001b[0;34m\u001b[0m\u001b[0m\n\u001b[0m\u001b[1;32m      3\u001b[0m \u001b[0mtest_dataset\u001b[0m \u001b[0;34m=\u001b[0m \u001b[0mdataset\u001b[0m\u001b[0;34m.\u001b[0m\u001b[0mdrop\u001b[0m\u001b[0;34m(\u001b[0m\u001b[0mtrain_dataset\u001b[0m\u001b[0;34m.\u001b[0m\u001b[0mindex\u001b[0m\u001b[0;34m)\u001b[0m\u001b[0;34m\u001b[0m\u001b[0;34m\u001b[0m\u001b[0m\n",
            "\u001b[0;31mAttributeError\u001b[0m: '_PrefetchDataset' object has no attribute 'sample'"
          ]
        }
      ]
    },
    {
      "cell_type": "code",
      "source": [
        "sns.pairplot(train_dataset[['MPG', 'Cylinders', 'Displacement', 'Weight']], diag_kind='kde')"
      ],
      "metadata": {
        "id": "eoSRgAVnvndi"
      },
      "execution_count": null,
      "outputs": []
    },
    {
      "cell_type": "code",
      "source": [
        "# Let's also check the overall statistics. Note how each feature covers a very different range:\n",
        "train_dataset.describe().transpose()"
      ],
      "metadata": {
        "id": "KnCn3izAvuVw"
      },
      "execution_count": null,
      "outputs": []
    },
    {
      "cell_type": "code",
      "source": [
        "# split features from labels\n",
        "train_features = train_dataset.copy()\n",
        "test_features = test_dataset.copy()\n",
        "\n",
        "train_labels = train_features.pop('MPG')\n",
        "test_labels = test_features.pop('MPG')"
      ],
      "metadata": {
        "id": "yhXQPCqyvtYL"
      },
      "execution_count": null,
      "outputs": []
    },
    {
      "cell_type": "code",
      "source": [
        "# Normalization\n",
        "train_dataset.describe().transpose()[['mean', 'std']]"
      ],
      "metadata": {
        "id": "GPXZOxcEv-YC"
      },
      "execution_count": null,
      "outputs": []
    },
    {
      "cell_type": "markdown",
      "metadata": {
        "id": "FstdAw4DnwSs"
      },
      "source": [
        "### Helping Variables"
      ]
    },
    {
      "cell_type": "code",
      "execution_count": 2,
      "metadata": {
        "id": "3IhZQW7lnwSt"
      },
      "outputs": [],
      "source": [
        "NUM_EPOCHS = 2\n",
        "BATCH_SIZE = 32\n",
        "SEED = 1\n",
        "\n",
        "IMG_HEIGHT = 300\n",
        "IMG_WIDTH = 300\n",
        "CHANNELS = 3\n",
        "\n",
        "num_inputs = 1\n",
        "num_classes = 3\n",
        "\n",
        "X_train = np.array([1.0, 2.0, 3.0, 4.0, 5.0, 6.0, 8.0, 9.0, 10.0], dtype=float)\n",
        "y_train = np.array([1.0, 1.5, 2.0, 2.5, 3.0, 3.5, 4.5, 5.0, 5.5], dtype=float)\n",
        "\n",
        "X_test = np.array([7.0, 11.0], dtype=float)\n",
        "y_test = np.array([4.0, 6.0], dtype=float)"
      ]
    },
    {
      "cell_type": "markdown",
      "metadata": {
        "id": "MXEX9KFenwSu"
      },
      "source": [
        "### Get time series data"
      ]
    },
    {
      "cell_type": "code",
      "execution_count": 4,
      "metadata": {
        "id": "GMTQ9tk0nwSv",
        "outputId": "746a32cf-4a08-45aa-f83a-ba3bdc2213a2",
        "colab": {
          "base_uri": "https://localhost:8080/",
          "height": 449
        }
      },
      "outputs": [
        {
          "output_type": "display_data",
          "data": {
            "text/plain": [
              "<Figure size 640x480 with 1 Axes>"
            ],
            "image/png": "[encoded data removed]"
          },
          "metadata": {}
        }
      ],
      "source": [
        "# get some time series data\n",
        "# the original code is taken from:\n",
        "# https://github.com/https-deeplearning-ai/tensorflow-1-public\n",
        "\n",
        "def plot_series(time, series, format=\"-\", start=0, end=None):\n",
        "    plt.plot(time[start:end], series[start:end], format)\n",
        "    plt.xlabel(\"Time\")\n",
        "    plt.ylabel(\"Value\")\n",
        "    plt.grid(True)\n",
        "\n",
        "\n",
        "def trend(time, slope=0):\n",
        "    return slope * time\n",
        "\n",
        "\n",
        "def seasonal_pattern(season_time):\n",
        "    \"\"\" Just an arbitrary pattern \"\"\"\n",
        "    return np.where(season_time < 0.3,\n",
        "                    np.sin(season_time * 4 * np.pi),\n",
        "                    1 / np.exp(7 * season_time))\n",
        "\n",
        "\n",
        "def seasonality(time, period, amplitude=1, phase=0):\n",
        "    \"\"\" Repeats the same pattern at each period \"\"\"\n",
        "    season_time = ((time + phase) % period) / period\n",
        "    return amplitude * seasonal_pattern(season_time)\n",
        "\n",
        "\n",
        "def noise(time, noise_level=1, seed=None):\n",
        "    rnd = np.random.RandomState(seed)\n",
        "    return rnd.randn(len(time)) * noise_level\n",
        "\n",
        "\n",
        "time = np.arange(4 * 365 + 1, dtype=\"float32\")\n",
        "baseline = 10\n",
        "series = trend(time, 0.1)\n",
        "baseline = 10\n",
        "amplitude = 40\n",
        "slope = 0.01\n",
        "noise_level = 2\n",
        "\n",
        "# Create the series\n",
        "series = baseline + trend(time, slope) + \\\n",
        "    seasonality(time, period=365, amplitude=amplitude)\n",
        "# Update with noise\n",
        "series += noise(time, noise_level, seed=42)\n",
        "\n",
        "split_time = 3000\n",
        "time_train = time[:split_time]\n",
        "series_train = series[:split_time]\n",
        "\n",
        "WINDOW_SIZE = 20\n",
        "SHUFFLE_BUFFER_SIZE = 1000\n",
        "\n",
        "plot_series(time, series)"
      ]
    },
    {
      "cell_type": "code",
      "execution_count": 5,
      "metadata": {
        "id": "pIPDLzVPnwSw"
      },
      "outputs": [],
      "source": [
        "def windowed_dataset(series, window_size, batch_size, shuffle_buffer):\n",
        "    dataset = tf.data.Dataset.from_tensor_slices(series)\n",
        "    dataset = dataset.window(window_size + 1, shift=1, drop_remainder=True)\n",
        "    dataset = dataset.flat_map(lambda window: window.batch(window_size + 1))\n",
        "    dataset = dataset.shuffle(shuffle_buffer).map(\n",
        "        lambda window: (window[:-1], window[-1]))\n",
        "    dataset = dataset.batch(batch_size).prefetch(1)\n",
        "    return dataset\n",
        "\n",
        "tf.keras.backend.clear_session()\n",
        "tf.random.set_seed(51)\n",
        "np.random.seed(51)\n",
        "\n",
        "dataset = windowed_dataset(series_train,\n",
        "                           WINDOW_SIZE,\n",
        "                           BATCH_SIZE,\n",
        "                           SHUFFLE_BUFFER_SIZE)"
      ]
    },
    {
      "cell_type": "markdown",
      "metadata": {
        "id": "QALRbE-0nwSx"
      },
      "source": [
        "### ImageDataGenerator\n",
        "\n",
        "Official documentation - https://www.tensorflow.org/api_docs/python/tf/keras/preprocessing/image/ImageDataGenerator"
      ]
    },
    {
      "cell_type": "code",
      "execution_count": 6,
      "metadata": {
        "id": "4rYQIASBnwSy",
        "outputId": "58a954fe-39b5-489e-d104-ca75c1f0d9cc",
        "colab": {
          "base_uri": "https://localhost:8080/",
          "height": 366
        }
      },
      "outputs": [
        {
          "output_type": "error",
          "ename": "FileNotFoundError",
          "evalue": "ignored",
          "traceback": [
            "\u001b[0;31m---------------------------------------------------------------------------\u001b[0m",
            "\u001b[0;31mFileNotFoundError\u001b[0m                         Traceback (most recent call last)",
            "\u001b[0;32m<ipython-input-6-124934fdeabe>\u001b[0m in \u001b[0;36m<cell line: 14>\u001b[0;34m()\u001b[0m\n\u001b[1;32m     12\u001b[0m \u001b[0;34m\u001b[0m\u001b[0m\n\u001b[1;32m     13\u001b[0m \u001b[0mlocal_zip\u001b[0m \u001b[0;34m=\u001b[0m \u001b[0mpath_horse_or_human\u001b[0m\u001b[0;34m\u001b[0m\u001b[0;34m\u001b[0m\u001b[0m\n\u001b[0;32m---> 14\u001b[0;31m \u001b[0mzip_ref\u001b[0m \u001b[0;34m=\u001b[0m \u001b[0mzipfile\u001b[0m\u001b[0;34m.\u001b[0m\u001b[0mZipFile\u001b[0m\u001b[0;34m(\u001b[0m\u001b[0mlocal_zip\u001b[0m\u001b[0;34m,\u001b[0m \u001b[0;34m'r'\u001b[0m\u001b[0;34m)\u001b[0m\u001b[0;34m\u001b[0m\u001b[0;34m\u001b[0m\u001b[0m\n\u001b[0m\u001b[1;32m     15\u001b[0m \u001b[0mzip_ref\u001b[0m\u001b[0;34m.\u001b[0m\u001b[0mextractall\u001b[0m\u001b[0;34m(\u001b[0m\u001b[0;34m'data/horse-or-human'\u001b[0m\u001b[0;34m)\u001b[0m\u001b[0;34m\u001b[0m\u001b[0;34m\u001b[0m\u001b[0m\n\u001b[1;32m     16\u001b[0m \u001b[0mzip_ref\u001b[0m\u001b[0;34m.\u001b[0m\u001b[0mclose\u001b[0m\u001b[0;34m(\u001b[0m\u001b[0;34m)\u001b[0m\u001b[0;34m\u001b[0m\u001b[0;34m\u001b[0m\u001b[0m\n",
            "\u001b[0;32m/usr/lib/python3.10/zipfile.py\u001b[0m in \u001b[0;36m__init__\u001b[0;34m(self, file, mode, compression, allowZip64, compresslevel, strict_timestamps)\u001b[0m\n\u001b[1;32m   1249\u001b[0m             \u001b[0;32mwhile\u001b[0m \u001b[0;32mTrue\u001b[0m\u001b[0;34m:\u001b[0m\u001b[0;34m\u001b[0m\u001b[0;34m\u001b[0m\u001b[0m\n\u001b[1;32m   1250\u001b[0m                 \u001b[0;32mtry\u001b[0m\u001b[0;34m:\u001b[0m\u001b[0;34m\u001b[0m\u001b[0;34m\u001b[0m\u001b[0m\n\u001b[0;32m-> 1251\u001b[0;31m                     \u001b[0mself\u001b[0m\u001b[0;34m.\u001b[0m\u001b[0mfp\u001b[0m \u001b[0;34m=\u001b[0m \u001b[0mio\u001b[0m\u001b[0;34m.\u001b[0m\u001b[0mopen\u001b[0m\u001b[0;34m(\u001b[0m\u001b[0mfile\u001b[0m\u001b[0;34m,\u001b[0m \u001b[0mfilemode\u001b[0m\u001b[0;34m)\u001b[0m\u001b[0;34m\u001b[0m\u001b[0;34m\u001b[0m\u001b[0m\n\u001b[0m\u001b[1;32m   1252\u001b[0m                 \u001b[0;32mexcept\u001b[0m \u001b[0mOSError\u001b[0m\u001b[0;34m:\u001b[0m\u001b[0;34m\u001b[0m\u001b[0;34m\u001b[0m\u001b[0m\n\u001b[1;32m   1253\u001b[0m                     \u001b[0;32mif\u001b[0m \u001b[0mfilemode\u001b[0m \u001b[0;32min\u001b[0m \u001b[0mmodeDict\u001b[0m\u001b[0;34m:\u001b[0m\u001b[0;34m\u001b[0m\u001b[0;34m\u001b[0m\u001b[0m\n",
            "\u001b[0;31mFileNotFoundError\u001b[0m: [Errno 2] No such file or directory: 'data/horse-or-human.zip'"
          ]
        }
      ],
      "source": [
        "# extract Horse or Human datasets for computer vision (ImageDataGenerator)\n",
        "# downloaded from: https://laurencemoroney.com/datasets.html\n",
        "\n",
        "import os\n",
        "import zipfile\n",
        "import shutil\n",
        "\n",
        "# Get the Horse or Human dataset\n",
        "path_horse_or_human = \"data/horse-or-human.zip\"\n",
        "# Get the Horse or Human Validation dataset\n",
        "path_validation_horse_or_human = \"data/validation-horse-or-human.zip\"\n",
        "\n",
        "local_zip = path_horse_or_human\n",
        "zip_ref = zipfile.ZipFile(local_zip, 'r')\n",
        "zip_ref.extractall('data/horse-or-human')\n",
        "zip_ref.close()\n",
        "\n",
        "local_zip = path_validation_horse_or_human\n",
        "zip_ref = zipfile.ZipFile(local_zip, 'r')\n",
        "zip_ref.extractall('data/validation-horse-or-human')\n",
        "zip_ref.close()\n",
        "\n",
        "train_dir = 'data/horse-or-human'\n",
        "validation_dir = 'data/validation-horse-or-human'"
      ]
    },
    {
      "cell_type": "code",
      "execution_count": 7,
      "metadata": {
        "id": "kuUbTt2nnwSy",
        "outputId": "5d19c1cf-17a4-4f78-e729-7740207ce576",
        "colab": {
          "base_uri": "https://localhost:8080/",
          "height": 245
        }
      },
      "outputs": [
        {
          "output_type": "error",
          "ename": "NameError",
          "evalue": "ignored",
          "traceback": [
            "\u001b[0;31m---------------------------------------------------------------------------\u001b[0m",
            "\u001b[0;31mNameError\u001b[0m                                 Traceback (most recent call last)",
            "\u001b[0;32m<ipython-input-7-95d422ec7940>\u001b[0m in \u001b[0;36m<cell line: 15>\u001b[0;34m()\u001b[0m\n\u001b[1;32m     14\u001b[0m \u001b[0;34m\u001b[0m\u001b[0m\n\u001b[1;32m     15\u001b[0m train_generator = train_datagen.flow_from_directory(\n\u001b[0;32m---> 16\u001b[0;31m     \u001b[0mtrain_dir\u001b[0m\u001b[0;34m,\u001b[0m\u001b[0;34m\u001b[0m\u001b[0;34m\u001b[0m\u001b[0m\n\u001b[0m\u001b[1;32m     17\u001b[0m     \u001b[0mtarget_size\u001b[0m\u001b[0;34m=\u001b[0m\u001b[0;34m(\u001b[0m\u001b[0mIMG_HEIGHT\u001b[0m\u001b[0;34m,\u001b[0m \u001b[0mIMG_WIDTH\u001b[0m\u001b[0;34m)\u001b[0m\u001b[0;34m,\u001b[0m\u001b[0;34m\u001b[0m\u001b[0;34m\u001b[0m\u001b[0m\n\u001b[1;32m     18\u001b[0m     \u001b[0mbatch_size\u001b[0m\u001b[0;34m=\u001b[0m\u001b[0mBATCH_SIZE\u001b[0m\u001b[0;34m,\u001b[0m\u001b[0;34m\u001b[0m\u001b[0;34m\u001b[0m\u001b[0m\n",
            "\u001b[0;31mNameError\u001b[0m: name 'train_dir' is not defined"
          ]
        }
      ],
      "source": [
        "# augmented ImageDataGenerator\n",
        "train_datagen = ImageDataGenerator(\n",
        "    rescale=1./255,\n",
        "    rotation_range=40,\n",
        "    width_shift_range=0.2,\n",
        "    height_shift_range=0.2,\n",
        "    shear_range=0.2,\n",
        "    zoom_range=0.2,\n",
        "    horizontal_flip=True,\n",
        "    fill_mode='nearest')\n",
        "\n",
        "# default ImageDataGenerator without augmentation\n",
        "validation_datagen = ImageDataGenerator(rescale=1./255)\n",
        "\n",
        "train_generator = train_datagen.flow_from_directory(\n",
        "    train_dir,\n",
        "    target_size=(IMG_HEIGHT, IMG_WIDTH),\n",
        "    batch_size=BATCH_SIZE,\n",
        "    class_mode='binary'  # 'categorical'\n",
        ")\n",
        "\n",
        "validation_generator = validation_datagen.flow_from_directory(\n",
        "    validation_dir,\n",
        "    target_size=(IMG_HEIGHT, IMG_WIDTH),\n",
        "    batch_size=BATCH_SIZE,\n",
        "    class_mode='binary'  # 'categorical'\n",
        ")"
      ]
    },
    {
      "cell_type": "markdown",
      "metadata": {
        "id": "7efSDVXtnwSz"
      },
      "source": [
        "Found 1027 images belonging to 2 classes.\n",
        "\n",
        "Found 256 images belonging to 2 classes."
      ]
    },
    {
      "cell_type": "code",
      "execution_count": 8,
      "metadata": {
        "id": "Gsed9P8QnwSz",
        "outputId": "300c3dad-41dd-4468-a9e9-10626bdc57d9",
        "colab": {
          "base_uri": "https://localhost:8080/",
          "height": 245
        }
      },
      "outputs": [
        {
          "output_type": "error",
          "ename": "NameError",
          "evalue": "ignored",
          "traceback": [
            "\u001b[0;31m---------------------------------------------------------------------------\u001b[0m",
            "\u001b[0;31mNameError\u001b[0m                                 Traceback (most recent call last)",
            "\u001b[0;32m<ipython-input-8-3cf1efb4340c>\u001b[0m in \u001b[0;36m<cell line: 10>\u001b[0;34m()\u001b[0m\n\u001b[1;32m      9\u001b[0m \u001b[0;34m\u001b[0m\u001b[0m\n\u001b[1;32m     10\u001b[0m train_generator = train_datagen.flow_from_directory(\n\u001b[0;32m---> 11\u001b[0;31m    \u001b[0mtrain_dir\u001b[0m\u001b[0;34m,\u001b[0m\u001b[0;34m\u001b[0m\u001b[0;34m\u001b[0m\u001b[0m\n\u001b[0m\u001b[1;32m     12\u001b[0m    \u001b[0mtarget_size\u001b[0m\u001b[0;34m=\u001b[0m\u001b[0;34m(\u001b[0m\u001b[0mIMG_HEIGHT\u001b[0m\u001b[0;34m,\u001b[0m \u001b[0mIMG_WIDTH\u001b[0m\u001b[0;34m)\u001b[0m\u001b[0;34m,\u001b[0m\u001b[0;34m\u001b[0m\u001b[0;34m\u001b[0m\u001b[0m\n\u001b[1;32m     13\u001b[0m    \u001b[0mbatch_size\u001b[0m\u001b[0;34m=\u001b[0m\u001b[0mBATCH_SIZE\u001b[0m\u001b[0;34m,\u001b[0m\u001b[0;34m\u001b[0m\u001b[0;34m\u001b[0m\u001b[0m\n",
            "\u001b[0;31mNameError\u001b[0m: name 'train_dir' is not defined"
          ]
        }
      ],
      "source": [
        " # Another option is not to specify the validation set explicitly,\n",
        "# but to entrust the split to ImageDataGenerator\n",
        "# In this case, be sure that the seed parameter is the same\n",
        "# for both sets, otherwise the sets may overlap\n",
        "\n",
        "train_datagen = ImageDataGenerator(rescale=1./255,\n",
        "                                   # set validation split ratio\n",
        "                                   validation_split=0.2)\n",
        "\n",
        "train_generator = train_datagen.flow_from_directory(\n",
        "    train_dir,\n",
        "    target_size=(IMG_HEIGHT, IMG_WIDTH),\n",
        "    batch_size=BATCH_SIZE,\n",
        "    class_mode='binary',  # 'categorical'\n",
        "    subset='training',  # set as training data\n",
        "    seed=SEED)\n",
        "\n",
        "validation_generator = train_datagen.flow_from_directory(\n",
        "    train_dir,  # the same directory\n",
        "    target_size=(IMG_HEIGHT, IMG_WIDTH),\n",
        "    batch_size=BATCH_SIZE,\n",
        "    class_mode='binary',  # 'categorical'\n",
        "    subset='validation',  # set as validation data\n",
        "    seed=SEED)"
      ]
    },
    {
      "cell_type": "markdown",
      "metadata": {
        "id": "i8JxZG7WnwS0"
      },
      "source": [
        "Found 822 images belonging to 2 classes.\n",
        "\n",
        "Found 205 images belonging to 2 classes."
      ]
    },
    {
      "cell_type": "markdown",
      "metadata": {
        "id": "GNAS6v6jnwS0"
      },
      "source": [
        "### Tokenize and pad sentences\n",
        "\n",
        "\n",
        "Official documentation for Tokenizer - https://www.tensorflow.org/api_docs/python/tf/keras/preprocessing/text/TokenizerOfficial documentation for pad_sequences method - https://www.tensorflow.org/api_docs/python/tf/keras/preprocessing/sequence/pad_sequences"
      ]
    },
    {
      "cell_type": "markdown",
      "metadata": {
        "id": "iwpX2LLTnwS0"
      },
      "source": [
        "### Nerual Netowrk"
      ]
    },
    {
      "cell_type": "markdown",
      "metadata": {
        "id": "szuceyhVnwS0"
      },
      "source": [
        "A neural network model is a collection of layers.\n",
        "\n",
        "A layer is a defined set of computations which takes a given tensor as input and produces another tensor as output.\n",
        "\n",
        "For example, a simple layer could just add 1 to all the elements of an input tensor.\n",
        "\n",
        "The important point is that a layer manipulates (performs a mathematical operation on) an input tensor in some way to produce an output tensor.\n",
        "\n",
        "Combine a series of layers together and you have a model.\n",
        "\n",
        "The term “deep learning” comes from the stacking of large numbers of layers on top of eachother (deep in this sense is a synonym for large).\n",
        "\n",
        "The best way to stack layers together to find patterns in data is constantly changing.\n",
        "\n",
        "This is why techniques such as *transfer learning* are helpful because they allow you to leverage what has worked for someone else’s similar problem and tailor it to your own."
      ]
    },
    {
      "cell_type": "markdown",
      "metadata": {
        "id": "LpmWvgaXnwS1"
      },
      "source": [
        "### Layers\n",
        "create layers using the `tf.keras.layers` module.\n",
        "\n",
        "Example include [Dense(fully connected)] and [Conv2D(convolutional)] layes:"
      ]
    },
    {
      "cell_type": "code",
      "execution_count": null,
      "metadata": {
        "id": "O_sSdYsMnwS1"
      },
      "outputs": [],
      "source": [
        "import tensorflow as tf\n",
        "# Create a dense (or fully connected) layer with TensorFlow\n",
        "dense_layer = tf.keras.layers.Dense(units,  activation=tf.keras.activations.relu)\n",
        "\n",
        "# Create a 2D convolutional layer with TensorFlow\n",
        "conv2d_layer = tf.keras.layers.Conv2D(filters, kernel_size, activation=tf.keras.activations.relu)"
      ]
    },
    {
      "cell_type": "markdown",
      "metadata": {
        "id": "5RVicuyanwS2"
      },
      "source": [
        "And there are many more pre-built layer types available in the [TensorFlow documentation](https://www.tensorflow.org/api_docs/python/tf/keras/layers)."
      ]
    },
    {
      "cell_type": "markdown",
      "metadata": {
        "id": "HUZErJqlnwS2"
      },
      "source": [
        "### Neural Network Models in TensorFlow\n",
        "The most straightforward way in TensorFlow to a neural network model us using the `tf.keras.Sequential` API, which allows you to stack layers in a way that the computation will be performed sequentially (one layer after the other):"
      ]
    },
    {
      "cell_type": "code",
      "source": [
        "model = tf.keras.models.Sequential([\n",
        "  tf.keras.layers.Flatten(input_shape=(28, 28)),\n",
        "  tf.keras.layers.Dense(128, activation='relu'),\n",
        "  tf.keras.layers.Dropout(0.2),\n",
        "  tf.keras.layers.Dense(10)\n",
        "])"
      ],
      "metadata": {
        "id": "B2U8eoa5oYdx"
      },
      "execution_count": 10,
      "outputs": []
    },
    {
      "cell_type": "markdown",
      "source": [
        "**Sequential** is useful for stacking layers where each layer has one input tensor and one output tensor. Layers are functions with a known mathematical structure that can be reused and have trainable variables. Most TensorFlow models are composed of layers. This model uses the **Flatten**, **Dense**, and **Dropout layers**.\n",
        "\n",
        "For each example, the model returns a vector of logits or log-odds scores, one for each class."
      ],
      "metadata": {
        "id": "Bs__t-kiohs_"
      }
    },
    {
      "cell_type": "markdown",
      "source": [
        "Flatten Layer:\n",
        "\n",
        "Purpose: Reshapes input tensors from multidimensional arrays (e.g., images, feature maps) into a single column vector, suitable for fully connected layers."
      ],
      "metadata": {
        "id": "86VHJFKCpHY0"
      }
    },
    {
      "cell_type": "code",
      "source": [
        "model.add(tf.keras.layers.Flatten())"
      ],
      "metadata": {
        "id": "5F4d41a4pHLM"
      },
      "execution_count": null,
      "outputs": []
    },
    {
      "cell_type": "markdown",
      "source": [
        "Dense Layer:\n",
        "\n",
        "- **Key feature**: Fully connected layer where each neuron receives input from all neurons in the previous layer.\n",
        "- **Parameters**:\n",
        "  - `units`: Number of neurons in the layer, representing its capacity to learn complex patterns.\n",
        "  - `activation`: Activation function applied to neuron outputs (e.g., 'relu', 'sigmoid', 'tanh')."
      ],
      "metadata": {
        "id": "osP2h2aWpdGz"
      }
    },
    {
      "cell_type": "code",
      "source": [
        "model.add(tf.keras.layers.Dense(64, activation='relu'))"
      ],
      "metadata": {
        "id": "JNQidto-pf7o"
      },
      "execution_count": null,
      "outputs": []
    },
    {
      "cell_type": "markdown",
      "source": [
        "Dropout Layer:\n",
        "\n",
        "- **Purpose**: Regularization technique to prevent overfitting by randomly setting a fraction of neurons' outputs to zero during training, forcing the model to learn more robust features.\n",
        "- **Parameter**:\n",
        "  - `rate`: Probability of a neuron being dropped out (e.g., 0.2 means 20% chance of being dropped)."
      ],
      "metadata": {
        "id": "BV78BHELpixM"
      }
    },
    {
      "cell_type": "code",
      "source": [
        "model.add(tf.keras.layers.Dropout(0.2))"
      ],
      "metadata": {
        "id": "MCKblmiNpqNA"
      },
      "execution_count": null,
      "outputs": []
    },
    {
      "cell_type": "markdown",
      "source": [
        "Common Usage:\n",
        "\n",
        "- **Flatten** is often used after convolutional or pooling layers to prepare data for fully connected layers.\n",
        "- **Dense layers** are the primary building blocks for learning complex patterns and making predictions.\n",
        "- **Dropout** is strategically placed between dense layers to reduce overfitting."
      ],
      "metadata": {
        "id": "GW3rMjvppr0v"
      }
    },
    {
      "cell_type": "markdown",
      "source": [
        "### Activations for Dense Layer\n",
        "\n",
        "1. **Rectified Linear Unit (ReLU):**\n",
        "- **Characteristics:** Simple, efficient, fast computations, non-negative outputs.\n",
        "- **Works best:** Widely applicable, performs well on image recognition, natural language processing, and various regression tasks.\n",
        "- **Not ideal:** Can suffer from \"dying neurons\" when activated outputs are consistently zero, potentially harming learning in deeper layers.\n",
        "\n",
        "2. **Sigmoid:**\n",
        "- **Characteristics:** S-shaped curve, outputs between 0 and 1, interpretable as probabilities.\n",
        "- **Works best:** Binary classification tasks where outputs represent probabilities (e.g., spam detection).\n",
        "- **Not ideal:** Vanishing gradient problem in deeper networks, slow computations, not suitable for multiple outputs.\n",
        "\n",
        "3. **Tanh:**\n",
        "- **Characteristics:** Similar to sigmoid but outputs range from -1 to 1.\n",
        "- **Works best:** Tasks requiring centered outputs (e.g., machine translation, recurrent neural networks).\n",
        "- **Not ideal:** Similar limitations to sigmoid, less widely used than ReLU.\n",
        "\n",
        "4. **Leaky ReLU:**\n",
        "- **Characteristics:** ReLU with a small negative slope for non-zero activations, preventing dying neurons.\n",
        "- **Works best:** Similar to ReLU but potentially more robust against dying neurons, helpful for deeper networks.\n",
        "- **Not ideal:** Slightly more complex calculations than ReLU, may not offer significant advantages in simpler architectures.\n",
        "\n",
        "5. **Softmax:**\n",
        "- **Characteristics:** Normalizes outputs of a layer to sum to 1, representing probabilities for multiple categories.\n",
        "- **Works best:** Multi-class classification tasks where outputs represent class probabilities.\n",
        "- **Not ideal:** Not suitable for regression tasks, computationally expensive for large numbers of classes.\n",
        "\n",
        "**Bonus:**\n",
        "- **Exponential Linear Unit (ELU):** Smoothly combines ReLU and leaky ReLU with benefits of both.\n",
        "- **Swish:** Combines ReLU with a sigmoid-like activation, potentially improving performance on certain tasks.\n",
        "\n",
        "**Choosing the right activation:**\n",
        "\n",
        "Consider the following factors:\n",
        "\n",
        "- **Task type:** Classification, regression, multi-class classification?\n",
        "- **Network depth:** Deeper networks may benefit from Leaky ReLU or ELU.\n",
        "- **Computational efficiency:** Simpler activations like ReLU are faster.\n",
        "- **Interpretability:** Sigmoid and Tanh offer interpretable outputs for probabilities."
      ],
      "metadata": {
        "id": "jfq5AUHgrMRK"
      }
    },
    {
      "cell_type": "markdown",
      "source": [
        "## Creating a Model"
      ],
      "metadata": {
        "id": "dLE0-VFXtvJ3"
      }
    },
    {
      "cell_type": "code",
      "execution_count": null,
      "metadata": {
        "id": "9rZBqNaPnwS2"
      },
      "outputs": [],
      "source": [
        "# Create a basic neural network model with TensorFlow\n",
        "model = models.Sequential()\n",
        "\n",
        "#\n",
        "model = tf.keras.Sequential([\n",
        "    tf.keras.layers.InputLayer(input_shape),\n",
        "    # Add layers here\n",
        "\t\t# Computation will happen layer by layer sequentially\n",
        "])"
      ]
    },
    {
      "cell_type": "code",
      "source": [
        "# If you want your model to return a probability, you can wrap the trained model, and attach the softmax to it:\n",
        "probability_model = tf.keras.Sequential([\n",
        "  model,\n",
        "  tf.keras.layers.Softmax()\n",
        "])"
      ],
      "metadata": {
        "id": "-lbBMjdStH3S"
      },
      "execution_count": 19,
      "outputs": []
    },
    {
      "cell_type": "code",
      "source": [
        "probability_model(x_test[:5])"
      ],
      "metadata": {
        "id": "sxOSEFxbtNpm",
        "outputId": "c81ce99c-b987-4cc2-d52b-03a4934ef092",
        "colab": {
          "base_uri": "https://localhost:8080/"
        }
      },
      "execution_count": 20,
      "outputs": [
        {
          "output_type": "execute_result",
          "data": {
            "text/plain": [
              "<tf.Tensor: shape=(5, 10), dtype=float32, numpy=\n",
              "array([[5.7554308e-09, 5.1160578e-09, 2.0690071e-05, 4.5628252e-04,\n",
              "        7.9367242e-11, 1.3908897e-07, 7.6838769e-13, 9.9951911e-01,\n",
              "        2.0202133e-07, 3.5682833e-06],\n",
              "       [2.5495899e-09, 2.1531023e-04, 9.9978179e-01, 1.6704277e-06,\n",
              "        8.0605596e-13, 4.5231863e-07, 7.0684536e-08, 6.2215138e-12,\n",
              "        7.4693099e-07, 1.5535925e-15],\n",
              "       [5.3597870e-07, 9.9823195e-01, 6.6665350e-05, 8.1525495e-06,\n",
              "        7.3460120e-05, 1.1378068e-05, 6.7557112e-06, 1.3603129e-03,\n",
              "        2.3847156e-04, 2.3003790e-06],\n",
              "       [9.9973756e-01, 1.7004214e-09, 2.5158864e-04, 7.0585749e-08,\n",
              "        2.0832948e-07, 2.7166209e-07, 5.6524264e-06, 3.6237157e-06,\n",
              "        9.6479837e-08, 1.0104238e-06],\n",
              "       [6.2924860e-06, 5.6971283e-10, 2.5331681e-06, 3.4923750e-07,\n",
              "        9.9632359e-01, 8.4422673e-08, 2.1204446e-06, 8.5443207e-05,\n",
              "        1.4203987e-06, 3.5781688e-03]], dtype=float32)>"
            ]
          },
          "metadata": {},
          "execution_count": 20
        }
      ]
    },
    {
      "cell_type": "code",
      "source": [
        "# Build the tf.keras model using the Keras model subclassing API:\n",
        "class MyModel(Model):\n",
        "  def __init__(self):\n",
        "    super().__init__()\n",
        "    self.conv1 = Conv2D(32, 3, activation='relu')\n",
        "    self.flatten = Flatten()\n",
        "    self.d1 = Dense(128, activation='relu')\n",
        "    self.d2 = Dense(10)\n",
        "\n",
        "  def call(self, x):\n",
        "    x = self.conv1(x)\n",
        "    x = self.flatten(x)\n",
        "    x = self.d1(x)\n",
        "    return self.d2(x)\n",
        "\n",
        "# Create an instance of the model\n",
        "model = MyModel()"
      ],
      "metadata": {
        "id": "FsXX5x-Etx0_"
      },
      "execution_count": 24,
      "outputs": []
    },
    {
      "cell_type": "markdown",
      "source": [
        "## Creating Layers"
      ],
      "metadata": {
        "id": "9KSdicfWuAJa"
      }
    },
    {
      "cell_type": "code",
      "execution_count": null,
      "metadata": {
        "id": "oDi1iVEBnwS2"
      },
      "outputs": [],
      "source": [
        "from tensorflow.keras import datasets, layers, models\n",
        "# Creating the Layers\n",
        "\n",
        "# for Neural Network Model\n",
        "model.add(layers.Flatten(input_shape=(28, 28)))\n",
        "model.add(layers.Dense(512, activation=tf.nn.relu))\n",
        "model.add(layers.Dropout(0.2))\n",
        "model.add(layers.Dense(10, activation=tf.nn.softmax))"
      ]
    },
    {
      "cell_type": "code",
      "source": [
        "# Choose an optimizer and loss function for training:\n",
        "loss_object = tf.keras.losses.SparseCategoricalCrossentropy(from_logits=True)\n",
        "\n",
        "optimizer = tf.keras.optimizers.Adam()"
      ],
      "metadata": {
        "id": "1Bk01E2JuDRv"
      },
      "execution_count": 25,
      "outputs": []
    },
    {
      "cell_type": "markdown",
      "source": [
        "Select metrics to measure the loss and the accuracy of the model. These metrics accumulate the values over epochs and then print the overall result."
      ],
      "metadata": {
        "id": "tgLmJ0RFuJZD"
      }
    },
    {
      "cell_type": "code",
      "source": [
        "train_loss = tf.keras.metrics.Mean(name='train_loss')\n",
        "train_accuracy = tf.keras.metrics.SparseCategoricalAccuracy(name='train_accuracy')\n",
        "\n",
        "test_loss = tf.keras.metrics.Mean(name='test_loss')\n",
        "test_accuracy = tf.keras.metrics.SparseCategoricalAccuracy(name='test_accuracy')"
      ],
      "metadata": {
        "id": "ZqRmhU5FuKE7"
      },
      "execution_count": 26,
      "outputs": []
    },
    {
      "cell_type": "markdown",
      "metadata": {
        "id": "Pi0x4F7ZnwS3"
      },
      "source": [
        " 1. Typical Neural Network Architectures using Sequential API\n",
        "\n",
        "Official documentation - https://www.tensorflow.org/guide/keras/sequential_model"
      ]
    },
    {
      "cell_type": "code",
      "execution_count": null,
      "metadata": {
        "id": "npybcIVInwS3"
      },
      "outputs": [],
      "source": [
        " # DNN\n",
        "model = tf.keras.Sequential([\n",
        "    tf.keras.layers.Dense(units=64, activation='relu',\n",
        "                          input_shape=(num_inputs, )),\n",
        "    tf.keras.layers.Dropout(0.2),\n",
        "    tf.keras.layers.Dense(units=32, activation='relu'),\n",
        "    tf.keras.layers.Dropout(0.2),\n",
        "    tf.keras.layers.Dense(units=1, activation='relu'),  # regression\n",
        "])\n",
        "\n",
        "model.summary()"
      ]
    },
    {
      "cell_type": "code",
      "execution_count": null,
      "metadata": {
        "id": "y-LG9cMAnwS3"
      },
      "outputs": [],
      "source": [
        " # CNN\n",
        "model = tf.keras.models.Sequential([\n",
        "    layers.Conv2D(32, (3, 3), activation='relu',\n",
        "                  input_shape=(IMG_HEIGHT, IMG_WIDTH, CHANNELS)),\n",
        "    layers.MaxPooling2D(2, 2),\n",
        "    layers.Conv2D(64, (3, 3), activation='relu'),\n",
        "    layers.MaxPooling2D(2, 2),\n",
        "    layers.Conv2D(128, (3, 3), activation='relu'),\n",
        "    layers.MaxPooling2D(2, 2),\n",
        "    layers.Flatten(),\n",
        "    layers.Dense(32, activation='relu'),\n",
        "    layers.Dropout(0.2),\n",
        "    layers.Dense(1, activation='sigmoid')  # binary classification\n",
        "    # multi-class classification\n",
        "    # layers.Dense(num_classes, activation='softmax')\n",
        "])\n",
        "\n",
        "model.summary()"
      ]
    },
    {
      "cell_type": "code",
      "execution_count": null,
      "metadata": {
        "id": "SN6SoiDEnwS4"
      },
      "outputs": [],
      "source": [
        " # RNN for NLP\n",
        "model = tf.keras.Sequential([\n",
        "    layers.Embedding(vocab_size,\n",
        "                     embedding_dim,\n",
        "                     input_length=max_length),\n",
        "    layers.Bidirectional(layers.LSTM(32, return_sequences=True)),\n",
        "    layers.Bidirectional(layers.LSTM(16)),\n",
        "    layers.Dropout(0.3),\n",
        "    layers.Dense(16, activation='relu'),\n",
        "    layers.Dense(6, activation='softmax')  # multiclass classification\n",
        "])\n",
        "\n",
        "model.summary()"
      ]
    },
    {
      "cell_type": "code",
      "execution_count": null,
      "metadata": {
        "id": "2VzDZ_ZSnwS4"
      },
      "outputs": [],
      "source": [
        "# RNN for time series\n",
        "model = tf.keras.Sequential([\n",
        "    layers.Conv1D(filters=128, kernel_size=7,\n",
        "                  strides=1, padding=\"causal\",\n",
        "                  activation=\"relu\",\n",
        "                  input_shape=(WINDOW_SIZE, 1)),\n",
        "    # univariate time series - predict a value based on\n",
        "    # 'WINDOW_SIZE' previous steps for 1 feature\n",
        "\n",
        "    layers.LSTM(32, return_sequences=True),\n",
        "    layers.LSTM(16, return_sequences=True),\n",
        "    layers.Dense(16, activation=\"relu\"),\n",
        "    layers.Dense(1)  # predict one value\n",
        "])\n",
        "\n",
        "model.summary()"
      ]
    },
    {
      "cell_type": "markdown",
      "metadata": {
        "id": "YjLpRM7NnwS4"
      },
      "source": [
        "### Compile Model\n",
        "Before we start training the model on data we’ve got to compile it model with an optimizer, loss function, and metric.\n",
        "\n",
        "All three of these are customizable depending on the project you’re working on.\n",
        "\n",
        "- **Loss function** = measures how wrong the model is (the higher the loss, the more wrong the model, so lower is better). Common loss values include `tf.keras.losses.CategoricalCrossentropy` for multi-class classification problems and `tf.keras.losses.BinaryCrossentropy` for binary classification problems.\n",
        "\n",
        "- **Optimizer** = tries to adjust the models parameters to lower the loss value. Common optimizers include `tf.keras.optimizers.SGD` (Stochastic Gradient Descent) and `tf.keras.optimizers.Adam`. Each optimizer comes with generally good default settings, however, of the most important values to set is the learning_rate hyperparameter.\n",
        "\n",
        "- **Metric** = human readable value to interpret how the model is going. Metrics can be defined via `tf.keras.metrics` such as `tf.keras.metrics.Accuracy` or via a list of strings such as `['accuracy']`."
      ]
    },
    {
      "cell_type": "code",
      "execution_count": null,
      "metadata": {
        "id": "WG4XIcO6nwS4"
      },
      "outputs": [],
      "source": [
        "# Compile model before training\n",
        "model.compile(optimizer=tf.keras.optimizers.Adam(learning_rate=0.001),\n",
        "              loss=tf.keras.losses.CategoricalCrossentropy(),\n",
        "              metrics=['accuracy'])"
      ]
    },
    {
      "cell_type": "markdown",
      "metadata": {
        "id": "MsAXsGirnwS5"
      },
      "source": [
        "### Train Model\n",
        "You can train your TensorFlow models using the `tf.keras.Model.fit` method and passing it the appropriate hyperparameters."
      ]
    },
    {
      "cell_type": "code",
      "execution_count": null,
      "metadata": {
        "id": "U7Zw3wRynwS6"
      },
      "outputs": [],
      "source": [
        "# Fit the model to a set of data\n",
        "model.fit(x=X_train, # data to find patterns in\n",
        "          y=y_train, # labels for x\n",
        "          epochs=1, # how many times to go over the whole dataset\n",
        "          batch_size=32, # number of samples to look at each time\n",
        "          validation_data=(X_val, # data to validate the learned patterns\n",
        "                           y_val))"
      ]
    },
    {
      "cell_type": "code",
      "source": [
        "predictions = model(x_train[:1]).numpy()\n",
        "predictions"
      ],
      "metadata": {
        "id": "MFg0kvQSsJYf",
        "outputId": "859991eb-704e-4332-8e35-12466efe12bd",
        "colab": {
          "base_uri": "https://localhost:8080/"
        }
      },
      "execution_count": 12,
      "outputs": [
        {
          "output_type": "execute_result",
          "data": {
            "text/plain": [
              "array([[-0.7633044 , -0.4134565 , -1.0231012 ,  0.16598913, -0.26373324,\n",
              "        -0.2396548 ,  0.323576  , -0.03654948, -0.46044785,  0.36251554]],\n",
              "      dtype=float32)"
            ]
          },
          "metadata": {},
          "execution_count": 12
        }
      ]
    },
    {
      "cell_type": "markdown",
      "source": [
        "The tf.nn.softmax function converts these logits to probabilities for each class:"
      ],
      "metadata": {
        "id": "XRgroKl3sL_o"
      }
    },
    {
      "cell_type": "code",
      "source": [
        "tf.nn.softmax(predictions).numpy()"
      ],
      "metadata": {
        "id": "99q03US2sMtf",
        "outputId": "e67affc1-ef21-4a4a-dd49-9e0a52af184e",
        "colab": {
          "base_uri": "https://localhost:8080/"
        }
      },
      "execution_count": 13,
      "outputs": [
        {
          "output_type": "execute_result",
          "data": {
            "text/plain": [
              "array([[0.05397002, 0.07657547, 0.04162213, 0.13669091, 0.08894338,\n",
              "        0.09111098, 0.16002166, 0.11162931, 0.07306032, 0.16637574]],\n",
              "      dtype=float32)"
            ]
          },
          "metadata": {},
          "execution_count": 13
        }
      ]
    },
    {
      "cell_type": "code",
      "source": [
        "model.compile(optimizer='adam',\n",
        "              loss=loss_fn,\n",
        "              metrics=['accuracy'])"
      ],
      "metadata": {
        "id": "9joYzgocsjWb"
      },
      "execution_count": 16,
      "outputs": []
    },
    {
      "cell_type": "markdown",
      "source": [
        "#### **Train and evaluate your model**\n",
        "Use the **Model.fit** method to adjust your model parameters and minimize the loss:"
      ],
      "metadata": {
        "id": "XjHwV6wrsmUx"
      }
    },
    {
      "cell_type": "code",
      "source": [
        "model.fit(x_train, y_train, epochs=5)"
      ],
      "metadata": {
        "id": "NmKmCrNBsmJf",
        "outputId": "a401d418-62ea-4b37-b2f5-ad46dc0426ff",
        "colab": {
          "base_uri": "https://localhost:8080/"
        }
      },
      "execution_count": 17,
      "outputs": [
        {
          "output_type": "stream",
          "name": "stdout",
          "text": [
            "Epoch 1/5\n",
            "1875/1875 [==============================] - 8s 4ms/step - loss: 0.2997 - accuracy: 0.9125\n",
            "Epoch 2/5\n",
            "1875/1875 [==============================] - 8s 4ms/step - loss: 0.1429 - accuracy: 0.9572\n",
            "Epoch 3/5\n",
            "1875/1875 [==============================] - 12s 6ms/step - loss: 0.1079 - accuracy: 0.9673\n",
            "Epoch 4/5\n",
            "1875/1875 [==============================] - 6s 3ms/step - loss: 0.0874 - accuracy: 0.9734\n",
            "Epoch 5/5\n",
            "1875/1875 [==============================] - 7s 4ms/step - loss: 0.0746 - accuracy: 0.9765\n"
          ]
        },
        {
          "output_type": "execute_result",
          "data": {
            "text/plain": [
              "<keras.src.callbacks.History at 0x797ea5901c30>"
            ]
          },
          "metadata": {},
          "execution_count": 17
        }
      ]
    },
    {
      "cell_type": "code",
      "source": [
        "# Use tf.GradientTape to train the model:\n",
        "@tf.function\n",
        "def train_step(images, labels):\n",
        "  with tf.GradientTape() as tape:\n",
        "    # training=True is only needed if there are layers with different\n",
        "    # behavior during training versus inference (e.g. Dropout).\n",
        "    predictions = model(images, training=True)\n",
        "    loss = loss_object(labels, predictions)\n",
        "  gradients = tape.gradient(loss, model.trainable_variables)\n",
        "  optimizer.apply_gradients(zip(gradients, model.trainable_variables))\n",
        "\n",
        "  train_loss(loss)\n",
        "  train_accuracy(labels, predictions)"
      ],
      "metadata": {
        "id": "IdRqkRZsuQd9"
      },
      "execution_count": 27,
      "outputs": []
    },
    {
      "cell_type": "code",
      "source": [
        "# test model\n",
        "@tf.function\n",
        "def test_step(images, labels):\n",
        "  # training=False is only needed if there are layers with different\n",
        "  # behavior during training versus inference (e.g. Dropout).\n",
        "  predictions = model(images, training=False)\n",
        "  t_loss = loss_object(labels, predictions)\n",
        "\n",
        "  test_loss(t_loss)\n",
        "  test_accuracy(labels, predictions)"
      ],
      "metadata": {
        "id": "N9P9AdR8uWAo"
      },
      "execution_count": 28,
      "outputs": []
    },
    {
      "cell_type": "code",
      "source": [
        "EPOCHS = 5\n",
        "\n",
        "for epoch in range(EPOCHS):\n",
        "  # Reset the metrics at the start of the next epoch\n",
        "  train_loss.reset_states()\n",
        "  train_accuracy.reset_states()\n",
        "  test_loss.reset_states()\n",
        "  test_accuracy.reset_states()\n",
        "\n",
        "  for images, labels in train_ds:\n",
        "    train_step(images, labels)\n",
        "\n",
        "  for test_images, test_labels in test_ds:\n",
        "    test_step(test_images, test_labels)\n",
        "\n",
        "  print(\n",
        "    f'Epoch {epoch + 1}, '\n",
        "    f'Loss: {train_loss.result()}, '\n",
        "    f'Accuracy: {train_accuracy.result() * 100}, '\n",
        "    f'Test Loss: {test_loss.result()}, '\n",
        "    f'Test Accuracy: {test_accuracy.result() * 100}'\n",
        "  )"
      ],
      "metadata": {
        "id": "sT0brXJ9uX27",
        "outputId": "badf20e0-cc64-45f6-ae69-e67b49574833",
        "colab": {
          "base_uri": "https://localhost:8080/"
        }
      },
      "execution_count": 29,
      "outputs": [
        {
          "output_type": "stream",
          "name": "stdout",
          "text": [
            "Epoch 1, Loss: 0.14174270629882812, Accuracy: 95.72833251953125, Test Loss: 0.06073475256562233, Test Accuracy: 97.94999694824219\n",
            "Epoch 2, Loss: 0.04460730776190758, Accuracy: 98.64833068847656, Test Loss: 0.04952728748321533, Test Accuracy: 98.3699951171875\n",
            "Epoch 3, Loss: 0.02325645461678505, Accuracy: 99.27166748046875, Test Loss: 0.06364025920629501, Test Accuracy: 97.95999908447266\n",
            "Epoch 4, Loss: 0.012701448984444141, Accuracy: 99.55833435058594, Test Loss: 0.05674344673752785, Test Accuracy: 98.47000122070312\n",
            "Epoch 5, Loss: 0.010433170944452286, Accuracy: 99.65666198730469, Test Loss: 0.056802958250045776, Test Accuracy: 98.47000122070312\n"
          ]
        }
      ]
    },
    {
      "cell_type": "markdown",
      "metadata": {
        "id": "ZVlhpQ4unwS6"
      },
      "source": [
        "### Evaluate Model\n",
        "Once you’ve trained a model, you can evaluate its performance on unseen data with `tf.keras.Model.evaluate`:"
      ]
    },
    {
      "cell_type": "markdown",
      "source": [
        "The Model.evaluate method checks the model's performance, usually on a validation set or test set."
      ],
      "metadata": {
        "id": "Tye8B-SosxFE"
      }
    },
    {
      "cell_type": "code",
      "source": [
        "model.evaluate(x_test,  y_test, verbose=2)"
      ],
      "metadata": {
        "id": "VHCiFDMVsyln",
        "outputId": "328ab802-37b0-4dad-9e65-f425bc15ed67",
        "colab": {
          "base_uri": "https://localhost:8080/"
        }
      },
      "execution_count": 18,
      "outputs": [
        {
          "output_type": "stream",
          "name": "stdout",
          "text": [
            "313/313 - 1s - loss: 0.0748 - accuracy: 0.9777 - 607ms/epoch - 2ms/step\n"
          ]
        },
        {
          "output_type": "execute_result",
          "data": {
            "text/plain": [
              "[0.07480630278587341, 0.9776999950408936]"
            ]
          },
          "metadata": {},
          "execution_count": 18
        }
      ]
    },
    {
      "cell_type": "code",
      "execution_count": null,
      "metadata": {
        "id": "dxOBN4QNnwS6"
      },
      "outputs": [],
      "source": [
        "# Evaluate a model on unseen data\n",
        "loss, accuracy = model.evaluate(x=X_test,\n",
        "                                y=y_test)"
      ]
    },
    {
      "cell_type": "markdown",
      "source": [
        "Define a loss function for training using losses.SparseCategoricalCrossentropy:"
      ],
      "metadata": {
        "id": "4pVfkxbHsTtM"
      }
    },
    {
      "cell_type": "markdown",
      "source": [
        "The loss function takes a vector of ground truth values and a vector of logits and returns a scalar loss for each example. This loss is equal to the negative log probability of the true class: The loss is zero if the model is sure of the correct class.\n",
        "\n",
        "This untrained model gives probabilities close to random (1/10 for each class), so the initial loss should be close to -tf.math.log(1/10) ~= 2.3."
      ],
      "metadata": {
        "id": "uIvRDoaEsYnt"
      }
    },
    {
      "cell_type": "code",
      "source": [
        "loss_fn(y_train[:1], predictions).numpy()"
      ],
      "metadata": {
        "id": "Z79ixCd4sZjH",
        "outputId": "74b1faf6-6744-422a-f046-3a31824a41b3",
        "colab": {
          "base_uri": "https://localhost:8080/"
        }
      },
      "execution_count": 15,
      "outputs": [
        {
          "output_type": "execute_result",
          "data": {
            "text/plain": [
              "2.3956769"
            ]
          },
          "metadata": {},
          "execution_count": 15
        }
      ]
    },
    {
      "cell_type": "markdown",
      "source": [
        "Before you start training, configure and compile the model using Keras Model.compile. Set the optimizer class to adam, set the loss to the loss_fn function you defined earlier, and specify a metric to be evaluated for the model by setting the metrics parameter to accuracy."
      ],
      "metadata": {
        "id": "j4aNtK22sery"
      }
    },
    {
      "cell_type": "code",
      "source": [
        "loss_fn = tf.keras.losses.SparseCategoricalCrossentropy(from_logits=True)"
      ],
      "metadata": {
        "id": "q9x_0khBsUXC"
      },
      "execution_count": 14,
      "outputs": []
    },
    {
      "cell_type": "markdown",
      "metadata": {
        "id": "yNELgyq1nwS7"
      },
      "source": [
        "### Save and Load a Whole TensorFlow Model\n",
        "There are two main ways to save a whole TensorFlow model:\n",
        "\n",
        "- **`SavedModel` format** — default format for saving a model in TensorFlow, saves a complete TensorFlow program including trained parameters and does not require the original model building code to run. Useful for sharing models across TensorFlow.js, TFLite, TensorFlow Serving and more.\n",
        "\n",
        "- **`HDF5` format** — a more widely used data standard, however, does not contain as much information as the `SavedModel` format.\n",
        "\n",
        "\n",
        "You can read the pros and cons of each of these in the TensorFlow documentation on Save and load Keras models."
      ]
    },
    {
      "cell_type": "code",
      "execution_count": null,
      "metadata": {
        "id": "EfRCQwp4nwS7"
      },
      "outputs": [],
      "source": [
        "# Save model to SavedModel format (default)\n",
        "model.save('model_save_path')\n",
        "\n",
        "# Load model back in from SavedModel format\n",
        "loaded_model = tf.keras.models.load_model('model_save_path')"
      ]
    },
    {
      "cell_type": "markdown",
      "metadata": {
        "id": "mqHC1sNYnwS7"
      },
      "source": []
    },
    {
      "cell_type": "markdown",
      "source": [
        "from https://www.tensorflow.org/tutorials/keras/regression"
      ],
      "metadata": {
        "id": "s4O1HOa_xHfP"
      }
    },
    {
      "cell_type": "code",
      "source": [
        "history = model.fit()"
      ],
      "metadata": {
        "id": "1_M03qEqwXus"
      },
      "execution_count": null,
      "outputs": []
    },
    {
      "cell_type": "code",
      "source": [
        "# Visualize the model's training progress using the stats stored in the history object:\n",
        "hist = pd.DataFrame(history.history)\n",
        "hist['epoch'] = history.epoch\n",
        "hist.tail()"
      ],
      "metadata": {
        "id": "ktiZ3AHTwVDR"
      },
      "execution_count": null,
      "outputs": []
    },
    {
      "cell_type": "code",
      "source": [
        "def plot_loss(history):\n",
        "  plt.plot(history.history['loss'], label='loss')\n",
        "  plt.plot(history.history['val_loss'], label='val_loss')\n",
        "  plt.ylim([0, 10])\n",
        "  plt.xlabel('Epoch')\n",
        "  plt.ylabel('Error [MPG]')\n",
        "  plt.legend()\n",
        "  plt.grid(True)"
      ],
      "metadata": {
        "id": "XuO4d6FOwc-g"
      },
      "execution_count": null,
      "outputs": []
    },
    {
      "cell_type": "code",
      "source": [
        "plot_loss(history)"
      ],
      "metadata": {
        "id": "FpR6gbmMweKU"
      },
      "execution_count": null,
      "outputs": []
    },
    {
      "cell_type": "code",
      "source": [
        "test_results = {}\n",
        "\n",
        "test_results['horsepower_model'] = horsepower_model.evaluate(\n",
        "    test_features['Horsepower'],\n",
        "    test_labels, verbose=0)"
      ],
      "metadata": {
        "id": "p1lPNYVrwgDr"
      },
      "execution_count": null,
      "outputs": []
    },
    {
      "cell_type": "code",
      "source": [
        "x = tf.linspace(0.0, 250, 251)\n",
        "y = horsepower_model.predict(x)"
      ],
      "metadata": {
        "id": "e7OkbghbwhQL"
      },
      "execution_count": null,
      "outputs": []
    },
    {
      "cell_type": "code",
      "source": [
        "def plot_horsepower(x, y):\n",
        "  plt.scatter(train_features['Horsepower'], train_labels, label='Data')\n",
        "  plt.plot(x, y, color='k', label='Predictions')\n",
        "  plt.xlabel('Horsepower')\n",
        "  plt.ylabel('MPG')\n",
        "  plt.legend()"
      ],
      "metadata": {
        "id": "1u4dy6QEwiZK"
      },
      "execution_count": null,
      "outputs": []
    },
    {
      "cell_type": "code",
      "source": [
        "plot_horsepower(x, y)"
      ],
      "metadata": {
        "id": "vccuWYB9wj_Q"
      },
      "execution_count": null,
      "outputs": []
    }
  ],
  "metadata": {
    "kernelspec": {
      "display_name": "Python 3",
      "language": "python",
      "name": "python3"
    },
    "language_info": {
      "name": "python",
      "version": "3.8.5"
    },
    "colab": {
      "provenance": []
    }
  },
  "nbformat": 4,
  "nbformat_minor": 0
}