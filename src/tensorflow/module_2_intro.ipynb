{
  "cells": [
    {
      "cell_type": "markdown",
      "source": [
        "# Intro to TensorFlow\n",
        "Types of Machine Learning\n",
        "* Supervised\n",
        "* Unsupervised\n",
        "* Reinforced"
      ],
      "metadata": {
        "id": "CviDAHoMKPRQ"
      }
    },
    {
      "cell_type": "code",
      "execution_count": null,
      "metadata": {
        "id": "dFR0cW9pJPQh"
      },
      "outputs": [],
      "source": []
    }
  ],
  "metadata": {
    "language_info": {
      "name": "python"
    },
    "colab": {
      "provenance": []
    }
  },
  "nbformat": 4,
  "nbformat_minor": 0
}