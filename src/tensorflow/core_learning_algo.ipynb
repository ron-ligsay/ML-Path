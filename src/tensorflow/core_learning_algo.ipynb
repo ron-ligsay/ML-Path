{
  "nbformat": 4,
  "nbformat_minor": 0,
  "metadata": {
    "colab": {
      "provenance": [],
      "authorship_tag": "ABX9TyPR46oBdP6ngJJ68PpKs5bV",
      "include_colab_link": true
    },
    "kernelspec": {
      "name": "python3",
      "display_name": "Python 3"
    },
    "language_info": {
      "name": "python"
    }
  },
  "cells": [
    {
      "cell_type": "markdown",
      "metadata": {
        "id": "view-in-github",
        "colab_type": "text"
      },
      "source": [
        "<a href=\"https://colab.research.google.com/github/ron-ligsay/ML-Path/blob/main/src/tensorflow/core_learning_algo.ipynb\" target=\"_parent\"><img src=\"https://colab.research.google.com/assets/colab-badge.svg\" alt=\"Open In Colab\"/></a>"
      ]
    },
    {
      "cell_type": "markdown",
      "source": [
        "# TensorFlow Core Learning Algirthms\n",
        "learning 4 fundamental ml algorithms\n",
        "* linear regression\n",
        "* classification\n",
        "* clustering\n",
        "* hidden markov models"
      ],
      "metadata": {
        "id": "-8WrNDO51bPW"
      }
    },
    {
      "cell_type": "code",
      "execution_count": null,
      "metadata": {
        "id": "q-sn5njL1UgD"
      },
      "outputs": [],
      "source": []
    }
  ]
}